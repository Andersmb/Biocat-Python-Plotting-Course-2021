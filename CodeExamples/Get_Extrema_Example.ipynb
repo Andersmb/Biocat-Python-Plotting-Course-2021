{
 "cells": [
  {
   "cell_type": "code",
   "execution_count": null,
   "id": "defined-circumstances",
   "metadata": {},
   "outputs": [],
   "source": [
    "import pandas as pd\n",
    "import seaborn as sns\n",
    "import numpy as np\n",
    "import matplotlib.pyplot as plt"
   ]
  },
  {
   "cell_type": "code",
   "execution_count": null,
   "id": "improved-employee",
   "metadata": {},
   "outputs": [],
   "source": [
    "df_tromso = pd.read_csv('tromso.csv', delimiter=';', decimal=',')\n",
    "df_oslo = pd.read_csv('oslo.csv', delimiter=';', decimal=',')\n",
    "df = pd.concat([df_tromso, df_oslo], axis=0)"
   ]
  },
  {
   "cell_type": "code",
   "execution_count": null,
   "id": "unavailable-dance",
   "metadata": {},
   "outputs": [],
   "source": [
    "# Unfitted x and y data\n",
    "# We must use a numerical x-variable for the fitting\n",
    "y = df_tromso['max temperature']\n",
    "x = df_tromso['date'].index"
   ]
  },
  {
   "cell_type": "code",
   "execution_count": null,
   "id": "young-residence",
   "metadata": {},
   "outputs": [],
   "source": [
    "# Make the polynomial using the numpy Polynomial class\n",
    "poly = np.polynomial.Polynomial.fit(x, y, deg=3)\n",
    "xfit, yfit = poly.linspace()\n",
    "\n",
    "# Calculate the derivative of our fitted polynomial\n",
    "# and get extrema\n",
    "diff = poly.deriv()\n",
    "extrema = [(root, poly(root)) for root in diff.roots()]\n",
    "\n",
    "fig, ax = plt.subplots()\n",
    "\n",
    "sns.lineplot(x=x, y=y)\n",
    "sns.lineplot(x=xfit, y=yfit)\n",
    "\n",
    "for rootx, rooty in extrema:\n",
    "    # Ignore roots outside the domain\n",
    "    # and ignore complex roots\n",
    "    \n",
    "    if rootx.imag != 0.0:\n",
    "        continue\n",
    "    elif not poly.domain.min() < rootx.real < poly.domain.max():\n",
    "        continue\n",
    "    \n",
    "    ax.scatter(x=rootx, y=rooty, color='red', s=100, zorder=3)\n",
    "    \n",
    "    if diff.deriv()(rootx) < 0:\n",
    "        print(f'Maximum: {rooty}')\n",
    "    else:\n",
    "        print(f'Minimum: {rooty}')"
   ]
  },
  {
   "cell_type": "code",
   "execution_count": null,
   "id": "suffering-attitude",
   "metadata": {},
   "outputs": [],
   "source": []
  }
 ],
 "metadata": {
  "kernelspec": {
   "display_name": "venv",
   "language": "python",
   "name": "venv"
  },
  "language_info": {
   "codemirror_mode": {
    "name": "ipython",
    "version": 3
   },
   "file_extension": ".py",
   "mimetype": "text/x-python",
   "name": "python",
   "nbconvert_exporter": "python",
   "pygments_lexer": "ipython3",
   "version": "3.8.6"
  }
 },
 "nbformat": 4,
 "nbformat_minor": 5
}
